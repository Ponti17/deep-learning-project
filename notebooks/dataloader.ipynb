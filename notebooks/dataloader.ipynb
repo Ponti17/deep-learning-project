{
 "cells": [
  {
   "cell_type": "markdown",
   "metadata": {},
   "source": [
    "# PUMA Data Loader"
   ]
  },
  {
   "cell_type": "markdown",
   "metadata": {},
   "source": [
    "## Imports"
   ]
  },
  {
   "cell_type": "code",
   "execution_count": 8,
   "metadata": {},
   "outputs": [],
   "source": [
    "# Misc\n",
    "import os\n",
    "\n",
    "# For processing images\n",
    "from PIL import Image, ImageDraw\n",
    "\n",
    "# Matplotlib\n",
    "import matplotlib.pyplot as plt\n",
    "# For manually adding legend entries\n",
    "import matplotlib.patches as mpatches\n",
    "\n",
    "# For parsing GeoJSON\n",
    "import json\n",
    "from shapely.geometry import shape\n",
    "from shapely.geometry.polygon import Polygon\n",
    "\n",
    "import numpy as np"
   ]
  },
  {
   "cell_type": "markdown",
   "metadata": {},
   "source": [
    "## Data\n",
    "\n",
    "Data should be placed in `data` folder. Expected folder names are:\n",
    "\n",
    "- `01_training_dataset_geojson_nuclei`\n",
    "- `01_training_dataset_geojson_tissue`\n",
    "- `01_training_dataset_tif_ROIs`"
   ]
  },
  {
   "cell_type": "code",
   "execution_count": null,
   "metadata": {},
   "outputs": [],
   "source": [
    "NUCLEI_DIR = 'data/01_training_dataset_geojson_nuclei'\n",
    "TISSUE_DIR = 'data/01_training_dataset_geojson_tissue'\n",
    "IMAGE_DIR = 'data/01_training_dataset_tif_ROIs'\n",
    "\n",
    "# Polygon class labels\n",
    "CLASS = {'nuclei_tumor':        0b00000001, # Tumor\n",
    "         'nuclei_lymphocyte':   0b00000010, # TIL\n",
    "         'nuclei_plasma_cell':  0b00000010, # TIL\n",
    "         'nuclei_endothelium':  0b00000100, # Other\n",
    "         'nuclei_apoptosis':    0b00000100, # Other\n",
    "         'nuclei_stroma':       0b00000100, # Other\n",
    "         'nuclei_histiocyte':   0b00000100, # Other\n",
    "         'nuclei_melanophage':  0b00000100, # Other\n",
    "         'nuclei_neutrophil':   0b00000100, # Other\n",
    "         'nuclei_epithelium':   0b00000100, # Other\n",
    "}\n",
    "\n",
    "img_path = os.path.join(IMAGE_DIR, 'training_set_primary_roi_001.tif')\n",
    "img = Image.open(img_path)\n",
    "width, height = img.size\n",
    "\n",
    "# Create blank greyscale image to draw polygons on\n",
    "img_poly = Image.new(mode=\"L\", size=(width, height))\n",
    "draw = ImageDraw.Draw(img_poly)\n",
    "\n",
    "json_path = os.path.join(NUCLEI_DIR, 'training_set_primary_roi_001_nuclei.geojson')\n",
    "with open(json_path, encoding='utf-8') as f:\n",
    "    geojson = json.load(f)\n",
    "\n",
    "legend = {}\n",
    "\n",
    "for feature in geojson['features']:\n",
    "    geometry = shape(feature['geometry'])\n",
    "    label = feature['properties']['classification'][\"name\"]\n",
    "    color = feature['properties']['classification'][\"color\"]\n",
    "    \n",
    "    legend[label] = color\n",
    "\n",
    "    # Format colors as hex\n",
    "    r = str(format(color[0], '#04x')).replace('0x', '')\n",
    "    g = str(format(color[1], '#04x')).replace('0x', '')\n",
    "    b = str(format(color[2], '#04x')).replace('0x', '')\n",
    "\n",
    "    if geometry.geom_type == 'Polygon':\n",
    "        coords = geometry.exterior.coords\n",
    "        draw.polygon(coords, outline=CLASS[label], fill=CLASS[label])\n",
    "    elif geometry.geom_type == 'MultiPolygon':\n",
    "        for poly in geometry.geoms:\n",
    "            polygon_coords = [(x, y) for x, y in poly.exterior.coords]\n",
    "            draw.polygon(polygon_coords, outline=\"#ffffff\", fill=f\"#{r}{g}{b}\")\n",
    "\n",
    "# Convert encoded image to RGB image\n",
    "img_array = np.array(img_poly)\n",
    "img_array_rgb = np.zeros((height, width, 3), dtype=np.uint8)\n",
    "\n",
    "# Define masks for each class\n",
    "nuclei_tumor_mask       = (img_array == CLASS[\"nuclei_tumor\"])\n",
    "nuclei_lymphocyte_mask  = (img_array == CLASS[\"nuclei_lymphocyte\"])\n",
    "nuclei_endothelium_mask = (img_array == CLASS[\"nuclei_endothelium\"])\n",
    "\n",
    "# Apply the colors using masks\n",
    "img_array_rgb[nuclei_tumor_mask, 0] = 0xFF  # Red channel\n",
    "img_array_rgb[nuclei_lymphocyte_mask, 1] = 0xFF  # Green channel\n",
    "img_array_rgb[nuclei_endothelium_mask, 2] = 0xFF  # Blue channel\n",
    "\n",
    "patch = [\n",
    "    mpatches.Patch(color=\"#ff0000\", label=\"Tumor\"),\n",
    "    mpatches.Patch(color=\"#00ff00\", label=\"TIL\"),\n",
    "    mpatches.Patch(color=\"#0000ff\", label=\"Other\"),\n",
    "]\n",
    "\n",
    "fig, axs = plt.subplots(1, 2, figsize=(16, 8))\n",
    "axs[0].imshow(img_array_rgb)\n",
    "axs[1].imshow(img)\n",
    "axs[0].legend(handles=patch)"
   ]
  }
 ],
 "metadata": {
  "kernelspec": {
   "display_name": ".venv",
   "language": "python",
   "name": "python3"
  },
  "language_info": {
   "codemirror_mode": {
    "name": "ipython",
    "version": 3
   },
   "file_extension": ".py",
   "mimetype": "text/x-python",
   "name": "python",
   "nbconvert_exporter": "python",
   "pygments_lexer": "ipython3",
   "version": "3.12.5"
  }
 },
 "nbformat": 4,
 "nbformat_minor": 2
}
