{
 "cells": [
  {
   "cell_type": "markdown",
   "metadata": {},
   "source": [
    "# Hover-Net Example"
   ]
  },
  {
   "cell_type": "markdown",
   "metadata": {},
   "source": [
    "## Imports"
   ]
  },
  {
   "cell_type": "code",
   "execution_count": null,
   "metadata": {},
   "outputs": [],
   "source": [
    "# System\n",
    "import sys\n",
    "import os\n",
    "\n",
    "# Misc\n",
    "import numpy as np\n",
    "from tqdm import tqdm\n",
    "import matplotlib.pyplot as plt\n",
    "\n",
    "# ML\n",
    "import torch\n",
    "from torch.utils.data import DataLoader\n",
    "from torch.optim.lr_scheduler import StepLR\n",
    "\n",
    "# Augmentations\n",
    "import albumentations as A\n",
    "from albumentations.pytorch import ToTensorV2\n",
    "\n",
    "# Custom\n",
    "sys.path.append(os.path.abspath(\"..\"))\n",
    "from dataloader.train_loader import PumaDataset"
   ]
  },
  {
   "cell_type": "code",
   "execution_count": null,
   "metadata": {},
   "outputs": [],
   "source": [
    "IMAGE_DIR = '../data/01_training_dataset_tif_ROIs'\n",
    "GEOJSON_DIR = '../data/01_training_dataset_geojson_nuclei'\n",
    "\n",
    "transform = A.Compose([\n",
    "    A.RandomCrop(width=512, height=512),\n",
    "    A.HorizontalFlip(p=0.5),\n",
    "    A.RandomBrightnessContrast(p=0.2),\n",
    "    ToTensorV2()\n",
    "])\n",
    "\n",
    "dataset = PumaDataset(image_dir=IMAGE_DIR, geojson_dir=GEOJSON_DIR, transform=transform)\n",
    "dataloader = DataLoader(dataset, batch_size=1, shuffle=False)\n",
    "\n",
    "for images, masks in dataloader:\n",
    "    print(images.shape, masks.shape)\n",
    "    break\n",
    "\n",
    "plot = True\n",
    "if plot:\n",
    "    fig, axs = plt.subplots(3, 2, figsize=(10, 15))\n",
    "    idx = 0\n",
    "    for images, masks in dataloader:\n",
    "        axs[idx, 0].imshow(images[0].permute(1, 2, 0))\n",
    "        axs[idx, 1].imshow(masks[0])\n",
    "        idx += 1\n",
    "        if idx == 3:\n",
    "            break"
   ]
  }
 ],
 "metadata": {
  "kernelspec": {
   "display_name": ".venv",
   "language": "python",
   "name": "python3"
  },
  "language_info": {
   "codemirror_mode": {
    "name": "ipython",
    "version": 3
   },
   "file_extension": ".py",
   "mimetype": "text/x-python",
   "name": "python",
   "nbconvert_exporter": "python",
   "pygments_lexer": "ipython3",
   "version": "3.12.5"
  }
 },
 "nbformat": 4,
 "nbformat_minor": 2
}
