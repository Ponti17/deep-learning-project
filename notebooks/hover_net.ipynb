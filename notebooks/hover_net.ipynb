{
 "cells": [
  {
   "cell_type": "markdown",
   "metadata": {},
   "source": [
    "# Hover-Net Example"
   ]
  },
  {
   "cell_type": "markdown",
   "metadata": {},
   "source": [
    "## Imports"
   ]
  },
  {
   "cell_type": "code",
   "execution_count": 1,
   "metadata": {},
   "outputs": [],
   "source": [
    "import numpy as np\n",
    "from tqdm import tqdm\n",
    "import copy\n",
    "import matplotlib.pyplot as plt\n",
    "from matplotlib import cm\n",
    "import torch\n",
    "from torch.optim.lr_scheduler import StepLR\n",
    "import albumentations as A\n",
    "from torch.utils.data import DataLoader\n",
    "\n",
    "from dataloader import PumaDataset"
   ]
  },
  {
   "cell_type": "code",
   "execution_count": 17,
   "metadata": {},
   "outputs": [
    {
     "name": "stdout",
     "output_type": "stream",
     "text": [
      "torch.Size([4, 1024, 1024]) torch.Size([3, 1024, 1024])\n"
     ]
    }
   ],
   "source": [
    "IMAGE_DIR = '../data/01_training_dataset_tif_ROIs'\n",
    "GEOJSON_DIR = '../data/01_training_dataset_geojson_nuclei'\n",
    "\n",
    "dataset = PumaDataset(image_dir=IMAGE_DIR, geojson_dir=GEOJSON_DIR)\n",
    "dataloader = DataLoader(dataset, batch_size=1, shuffle=False)\n",
    "\n",
    "for images, masks in dataloader:\n",
    "    print(images[0].shape, masks[0].shape)\n",
    "    break\n",
    "\n",
    "plot = False\n",
    "if plot:\n",
    "    fig, axs = plt.subplots(3, 2, figsize=(10, 15))\n",
    "    idx = 0\n",
    "    for images, masks in dataloader:\n",
    "        axs[idx, 0].imshow(images[0].permute(1, 2, 0))\n",
    "        axs[idx, 1].imshow(masks[0].permute(1, 2, 0))\n",
    "        idx += 1\n",
    "        if idx == 3:\n",
    "            break"
   ]
  }
 ],
 "metadata": {
  "kernelspec": {
   "display_name": "deep-learning-project-cTn929T1-py3.12",
   "language": "python",
   "name": "python3"
  },
  "language_info": {
   "codemirror_mode": {
    "name": "ipython",
    "version": 3
   },
   "file_extension": ".py",
   "mimetype": "text/x-python",
   "name": "python",
   "nbconvert_exporter": "python",
   "pygments_lexer": "ipython3",
   "version": "3.12.5"
  }
 },
 "nbformat": 4,
 "nbformat_minor": 2
}
